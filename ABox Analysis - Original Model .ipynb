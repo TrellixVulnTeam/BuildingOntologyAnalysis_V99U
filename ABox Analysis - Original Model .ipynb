{
 "cells": [
  {
   "cell_type": "code",
   "execution_count": 7,
   "id": "f68c538a",
   "metadata": {},
   "outputs": [
    {
     "name": "stdout",
     "output_type": "stream",
     "text": [
      "['C_B307_Brick.ttl', 'C_B307_DigitalBuilding.ttl', 'C_B307_Haystack.ttl', 'C_B307_RECore.ttl']\n"
     ]
    }
   ],
   "source": [
    "from os import walk\n",
    "\n",
    "dirpath = \"ABox\";\n",
    "filenames = next(walk(dirpath), (None, None, []))[2]  # [] if no file\n",
    "print(filenames)"
   ]
  },
  {
   "cell_type": "code",
   "execution_count": 8,
   "id": "11f2cf59",
   "metadata": {},
   "outputs": [
    {
     "name": "stdout",
     "output_type": "stream",
     "text": [
      "C_B307_Brick.ttl\n",
      "rdflib Graph loaded successfully with 1618 triples\n",
      "networkx Graph loaded successfully with length 831\n",
      "C_B307_DigitalBuilding.ttl\n",
      "rdflib Graph loaded successfully with 929 triples\n",
      "networkx Graph loaded successfully with length 542\n",
      "C_B307_Haystack.ttl\n",
      "rdflib Graph loaded successfully with 1266 triples\n",
      "networkx Graph loaded successfully with length 652\n",
      "C_B307_RECore.ttl\n",
      "rdflib Graph loaded successfully with 1843 triples\n",
      "networkx Graph loaded successfully with length 776\n"
     ]
    }
   ],
   "source": [
    "from rdflib import Graph as RDFGraph\n",
    "from rdflib.extras.external_graph_libs import rdflib_to_networkx_digraph\n",
    "\n",
    "# loadn RDF Graph\n",
    "dic = {}\n",
    "for filename in filenames:\n",
    "    print(filename)\n",
    "    path = dirpath + \"/\" + filename\n",
    "    g = RDFGraph()\n",
    "    g.parse(path)\n",
    "    print(\"rdflib Graph loaded successfully with {} triples\".format(len(g)))\n",
    "    G = rdflib_to_networkx_digraph(g)\n",
    "    print(\"networkx Graph loaded successfully with length {}\".format(len(G)))\n",
    "    dic.update({str(filename):G})\n",
    "# print (dic)"
   ]
  },
  {
   "cell_type": "code",
   "execution_count": 9,
   "id": "6809608f",
   "metadata": {},
   "outputs": [],
   "source": [
    "# show complete node\n",
    "import pandas as pd\n",
    "pd.set_option('display.max_colwidth', None)"
   ]
  },
  {
   "cell_type": "code",
   "execution_count": null,
   "id": "6dbce258",
   "metadata": {},
   "outputs": [],
   "source": [
    "nx.simrank_similarity(G, source=0, target=0)"
   ]
  },
  {
   "cell_type": "code",
   "execution_count": 4,
   "id": "6b13a8da",
   "metadata": {},
   "outputs": [
    {
     "data": {
      "text/html": [
       "<div>\n",
       "<style scoped>\n",
       "    .dataframe tbody tr th:only-of-type {\n",
       "        vertical-align: middle;\n",
       "    }\n",
       "\n",
       "    .dataframe tbody tr th {\n",
       "        vertical-align: top;\n",
       "    }\n",
       "\n",
       "    .dataframe thead th {\n",
       "        text-align: right;\n",
       "    }\n",
       "</style>\n",
       "<table border=\"1\" class=\"dataframe\">\n",
       "  <thead>\n",
       "    <tr style=\"text-align: right;\">\n",
       "      <th></th>\n",
       "      <th>C_B307_Brick.ttl</th>\n",
       "      <th>C_B307_DigitalBuilding.ttl</th>\n",
       "      <th>C_B307_Haystack.ttl</th>\n",
       "      <th>C_B307_RECore.ttl</th>\n",
       "    </tr>\n",
       "  </thead>\n",
       "  <tbody>\n",
       "    <tr>\n",
       "      <th>0</th>\n",
       "      <td>831</td>\n",
       "      <td>542</td>\n",
       "      <td>652</td>\n",
       "      <td>776</td>\n",
       "    </tr>\n",
       "  </tbody>\n",
       "</table>\n",
       "</div>"
      ],
      "text/plain": [
       "   C_B307_Brick.ttl  C_B307_DigitalBuilding.ttl  C_B307_Haystack.ttl  \\\n",
       "0               831                         542                  652   \n",
       "\n",
       "   C_B307_RECore.ttl  \n",
       "0                776  "
      ]
     },
     "execution_count": 4,
     "metadata": {},
     "output_type": "execute_result"
    }
   ],
   "source": [
    "number_of_nodes = {}\n",
    "for k, v in dic.items():\n",
    "    v = v.number_of_nodes()\n",
    "    number_of_nodes.update({k:v})\n",
    "\n",
    "number_of_nodes_df = pd.DataFrame(data = number_of_nodes,index=[0])\n",
    "number_of_nodes_df.head(10)"
   ]
  },
  {
   "cell_type": "code",
   "execution_count": 17,
   "id": "07fd906d",
   "metadata": {},
   "outputs": [
    {
     "ename": "ValueError",
     "evalue": "probabilities contain NaN",
     "output_type": "error",
     "traceback": [
      "\u001B[1;31m---------------------------------------------------------------------------\u001B[0m",
      "\u001B[1;31mValueError\u001B[0m                                Traceback (most recent call last)",
      "\u001B[1;32m~\\AppData\\Local\\Temp\\ipykernel_25612\\2838983974.py\u001B[0m in \u001B[0;36m<module>\u001B[1;34m\u001B[0m\n\u001B[0;32m      3\u001B[0m \u001B[1;32mfrom\u001B[0m \u001B[0mrdflib\u001B[0m \u001B[1;32mimport\u001B[0m \u001B[0mURIRef\u001B[0m\u001B[1;33m\u001B[0m\u001B[1;33m\u001B[0m\u001B[0m\n\u001B[0;32m      4\u001B[0m \u001B[1;32mfor\u001B[0m \u001B[0mk\u001B[0m\u001B[1;33m,\u001B[0m \u001B[0mv\u001B[0m \u001B[1;32min\u001B[0m \u001B[0mdic\u001B[0m\u001B[1;33m.\u001B[0m\u001B[0mitems\u001B[0m\u001B[1;33m(\u001B[0m\u001B[1;33m)\u001B[0m\u001B[1;33m:\u001B[0m\u001B[1;33m\u001B[0m\u001B[1;33m\u001B[0m\u001B[0m\n\u001B[1;32m----> 5\u001B[1;33m     \u001B[0ma\u001B[0m\u001B[1;33m=\u001B[0m \u001B[0mnx\u001B[0m\u001B[1;33m.\u001B[0m\u001B[0mpanther_similarity\u001B[0m\u001B[1;33m(\u001B[0m\u001B[0mv\u001B[0m\u001B[1;33m,\u001B[0m \u001B[0mURIRef\u001B[0m\u001B[1;33m(\u001B[0m\u001B[1;34m'http://design-pattern-instance-only.qzc438.com/Brick_1.2.1/C_B307_Brick#AHU_F1'\u001B[0m\u001B[1;33m)\u001B[0m\u001B[1;33m)\u001B[0m\u001B[1;33m\u001B[0m\u001B[1;33m\u001B[0m\u001B[0m\n\u001B[0m\u001B[0;32m      6\u001B[0m     \u001B[0mprint\u001B[0m\u001B[1;33m(\u001B[0m\u001B[0ma\u001B[0m\u001B[1;33m)\u001B[0m\u001B[1;33m\u001B[0m\u001B[1;33m\u001B[0m\u001B[0m\n",
      "\u001B[1;32mE:\\JetBrains\\PycharmProjects\\BuildingOntologyAnalysis\\venv\\lib\\site-packages\\networkx\\algorithms\\similarity.py\u001B[0m in \u001B[0;36mpanther_similarity\u001B[1;34m(G, source, k, path_length, c, delta, eps)\u001B[0m\n\u001B[0;32m   1634\u001B[0m     _ = list(\n\u001B[0;32m   1635\u001B[0m         generate_random_paths(\n\u001B[1;32m-> 1636\u001B[1;33m             \u001B[0mG\u001B[0m\u001B[1;33m,\u001B[0m \u001B[0msample_size\u001B[0m\u001B[1;33m,\u001B[0m \u001B[0mpath_length\u001B[0m\u001B[1;33m=\u001B[0m\u001B[0mpath_length\u001B[0m\u001B[1;33m,\u001B[0m \u001B[0mindex_map\u001B[0m\u001B[1;33m=\u001B[0m\u001B[0mindex_map\u001B[0m\u001B[1;33m\u001B[0m\u001B[1;33m\u001B[0m\u001B[0m\n\u001B[0m\u001B[0;32m   1637\u001B[0m         )\n\u001B[0;32m   1638\u001B[0m     )\n",
      "\u001B[1;32mE:\\JetBrains\\PycharmProjects\\BuildingOntologyAnalysis\\venv\\lib\\site-packages\\networkx\\algorithms\\similarity.py\u001B[0m in \u001B[0;36mgenerate_random_paths\u001B[1;34m(G, sample_size, path_length, index_map)\u001B[0m\n\u001B[0;32m   1746\u001B[0m             \u001B[1;31m# to transition probabilities from ``node`` (v) to its neighbors\u001B[0m\u001B[1;33m\u001B[0m\u001B[1;33m\u001B[0m\u001B[1;33m\u001B[0m\u001B[0m\n\u001B[0;32m   1747\u001B[0m             neighbor_index = np.random.choice(\n\u001B[1;32m-> 1748\u001B[1;33m                 \u001B[0mnum_nodes\u001B[0m\u001B[1;33m,\u001B[0m \u001B[0mp\u001B[0m\u001B[1;33m=\u001B[0m\u001B[0mtransition_probabilities\u001B[0m\u001B[1;33m[\u001B[0m\u001B[0mstarting_index\u001B[0m\u001B[1;33m]\u001B[0m\u001B[1;33m\u001B[0m\u001B[1;33m\u001B[0m\u001B[0m\n\u001B[0m\u001B[0;32m   1749\u001B[0m             )\n\u001B[0;32m   1750\u001B[0m \u001B[1;33m\u001B[0m\u001B[0m\n",
      "\u001B[1;32mmtrand.pyx\u001B[0m in \u001B[0;36mnumpy.random.mtrand.RandomState.choice\u001B[1;34m()\u001B[0m\n",
      "\u001B[1;31mValueError\u001B[0m: probabilities contain NaN"
     ]
    }
   ],
   "source": [
    "import networkx as nx\n",
    "import math\n",
    "from rdflib import URIRef\n",
    "for k, v in dic.items():\n",
    "    a= nx.panther_similarity(v, URIRef('http://design-pattern-instance-only.qzc438.com/Brick_1.2.1/C_B307_Brick#AHU_F1'))\n",
    "    print(a)"
   ]
  },
  {
   "cell_type": "code",
   "execution_count": 6,
   "id": "6de0295d",
   "metadata": {},
   "outputs": [
    {
     "ename": "SyntaxError",
     "evalue": "can't assign to operator (3512861074.py, line 1)",
     "output_type": "error",
     "traceback": [
      "\u001B[1;36m  File \u001B[1;32m\"C:\\Users\\qzc438\\AppData\\Local\\Temp\\ipykernel_25612\\3512861074.py\"\u001B[1;36m, line \u001B[1;32m1\u001B[0m\n\u001B[1;33m    --NotebookApp.iopub_data_rate_limit=1.0e10\u001B[0m\n\u001B[1;37m                                              ^\u001B[0m\n\u001B[1;31mSyntaxError\u001B[0m\u001B[1;31m:\u001B[0m can't assign to operator\n"
     ]
    }
   ],
   "source": [
    "--NotebookApp.iopub_data_rate_limit=1.0e10"
   ]
  },
  {
   "cell_type": "code",
   "execution_count": null,
   "id": "77530ca5",
   "metadata": {},
   "outputs": [],
   "source": [
    "number_of_edges = {}\n",
    "for k, v in dic.items():\n",
    "    v = v.number_of_edges()\n",
    "    number_of_edges.update ({k:v})\n",
    "\n",
    "number_of_edges_df = pd.DataFrame(data = number_of_edges,index=[0])\n",
    "number_of_edges_df.head(10)"
   ]
  },
  {
   "cell_type": "code",
   "execution_count": null,
   "id": "a60289f9",
   "metadata": {},
   "outputs": [],
   "source": [
    "prefix_brick = \"http://design-pattern-instance-only.qzc438.com/Brick_1.2.1/C_B307_Brick#\"\n",
    "prefix_haystack = \"http://design-pattern-instance-only.qzc438.com/ProjectHaystack/C_B307_Haystack#\"\n",
    "prefix_recore = \"http://design-pattern-instance-only.qzc438.com/RealEstateCore/C_B307_RECore#\"\n",
    "prefix_digitalbuilding = \"http://design-pattern-instance-only.qzc438.com/GoogleDigitalBuilding/C_B307_DigitalBuilding#\"\n",
    "prefix_test = \"dch:org/csiro/site/Clayton/building/307_R_L_Sandland#\"\n",
    "prefix = [prefix_brick, prefix_haystack, prefix_recore, prefix_digitalbuilding]"
   ]
  },
  {
   "cell_type": "markdown",
   "id": "95d8ecc2",
   "metadata": {},
   "source": [
    "### Dan's Paper (degree and class hierarchy/depth)"
   ]
  },
  {
   "cell_type": "code",
   "execution_count": null,
   "id": "9763993c",
   "metadata": {},
   "outputs": [],
   "source": [
    "import networkx as nx\n",
    "\n",
    "dan_summary_brick_df = pd.DataFrame()\n",
    "dan_summary_haystack_df = pd.DataFrame()\n",
    "dan_summary_recore_df = pd.DataFrame()\n",
    "dan_summary_digitalbuilding_df = pd.DataFrame()"
   ]
  },
  {
   "cell_type": "code",
   "execution_count": null,
   "id": "3d2199de",
   "metadata": {},
   "outputs": [],
   "source": [
    "# number of degree\n",
    "for k, v in dic.items():\n",
    "    number_of_degree_df = pd.DataFrame(data = v.degree(), \n",
    "                                           columns = [\"node\", \"number_of_degree\"])\n",
    "    # filter\n",
    "    if k == \"C_B307_Brick.ttl\":\n",
    "        number_of_degree_df = number_of_degree_df[number_of_degree_df['node'].str.startswith(prefix_brick)]\n",
    "        dan_summary_brick_df = number_of_degree_df\n",
    "    if k == \"C_B307_Haystack.ttl\":\n",
    "        number_of_degree_df = number_of_degree_df[number_of_degree_df['node'].str.startswith(prefix_haystack)]\n",
    "        dan_summary_haystack_df = number_of_degree_df\n",
    "    if k == \"C_B307_RECore.ttl\":\n",
    "        number_of_degree_df = number_of_degree_df[number_of_degree_df['node'].str.startswith(prefix_recore)]\n",
    "        dan_summary_recore_df = number_of_degree_df\n",
    "    if k == \"C_B307_DigitalBuilding.ttl\":\n",
    "        number_of_degree_df = number_of_degree_df[number_of_degree_df['node'].str.startswith(prefix_digitalbuilding)]\n",
    "        dan_summary_digitalbuilding_df = number_of_degree_df\n",
    "#     if k == \"C_B307_test.ttl\":\n",
    "#         numbr_of_degree_df = numbr_of_degree_df[numbr_of_degree_df['node'].str.startswith(prefix_test)]\n",
    "    \n",
    "    # sort\n",
    "    number_of_degree_df = number_of_degree_df.sort_values(\"number_of_degree\", ascending = False)\n",
    "    # reset index\n",
    "    number_of_degree_df = number_of_degree_df.reset_index(drop=True)\n",
    "    \n",
    "    # print\n",
    "    print (\"file:\", k)\n",
    "    print(\"data points\", len(number_of_degree_df.index))\n",
    "    print (number_of_degree_df.head(5))\n",
    "    print (\"====================================================================================================\")"
   ]
  },
  {
   "cell_type": "code",
   "execution_count": null,
   "id": "e41e7541",
   "metadata": {},
   "outputs": [],
   "source": [
    "import matplotlib.pyplot as plt\n",
    "%matplotlib inline"
   ]
  },
  {
   "cell_type": "code",
   "execution_count": null,
   "id": "2f7fdc71",
   "metadata": {},
   "outputs": [],
   "source": [
    "x1 = dan_summary_brick_df.number_of_degree\n",
    "x2 = dan_summary_haystack_df.number_of_degree\n",
    "x3 = dan_summary_recore_df.number_of_degree\n",
    "x4 = dan_summary_digitalbuilding_df.number_of_degree\n",
    "plt.boxplot ([x1,x2,x3,x4])\n",
    "plt.xticks([1,2,3,4], ['Brick','Haystack','RECore','DigitalBuilding'])\n",
    "plt.title (\"Number of Degrees (Original Model)\")\n",
    "plt.savefig('Number of Degrees-Original.jpg', bbox_inches='tight', dpi=500)"
   ]
  },
  {
   "cell_type": "code",
   "execution_count": null,
   "id": "ce6f40f4",
   "metadata": {},
   "outputs": [],
   "source": [
    "# start from root to each node, calculate the depth for each node\n",
    "from rdflib import URIRef\n",
    "# class hierarchy/depth\n",
    "for k, v in dic.items():\n",
    "    \n",
    "    # filter\n",
    "    if k == \"C_B307_Brick.ttl\":        \n",
    "        \n",
    "        root = URIRef('http://design-pattern-instance-only.qzc438.com/Brick_1.2.1/C_B307_Brick#AHU_F1')\n",
    "        \n",
    "        data = {}\n",
    "        \n",
    "        for i,j in v.nodes(data=True):\n",
    "                \n",
    "            paths = nx.all_simple_paths(v, source = root, target = i)\n",
    "            \n",
    "            if(len(list(paths)) == 0):\n",
    "                depth = 0\n",
    "                # data.update({i:depth})\n",
    "            else:\n",
    "                depth = len(max(nx.all_simple_paths(v, source = root, target = i), key=lambda x: len(x)))-1\n",
    "                data.update({i:depth})\n",
    "            \n",
    "        class_hierarchy_df = pd.DataFrame.from_dict(data = data, orient='index', columns = [\"class_hierarchy\"])\n",
    "        class_hierarchy_df.index.rename('node', inplace=True)\n",
    "        class_hierarchy_df = class_hierarchy_df.reset_index()\n",
    "        # filter\n",
    "        class_hierarchy_df = class_hierarchy_df[class_hierarchy_df['node'].str.startswith(prefix_brick)]\n",
    "        # sort\n",
    "        class_hierarchy_df = class_hierarchy_df.sort_values(\"class_hierarchy\", ascending = False)\n",
    "        # reset index\n",
    "        class_hierarchy_df = class_hierarchy_df.reset_index(drop=True)\n",
    "        # merge\n",
    "        dan_summary_brick_df = class_hierarchy_df\n",
    "\n",
    "    \n",
    "    if k == \"C_B307_Haystack.ttl\":        \n",
    "\n",
    "        root = URIRef('http://design-pattern-instance-only.qzc438.com/ProjectHaystack/C_B307_Haystack#AHU_F1')\n",
    "\n",
    "        data = {}\n",
    "\n",
    "        for i,j in v.nodes(data=True):\n",
    "\n",
    "            paths = nx.all_simple_paths(v, source = root, target = i)\n",
    "\n",
    "            if(len(list(paths)) == 0):\n",
    "                depth = 0\n",
    "                # data.update({i:depth})\n",
    "            else:\n",
    "                depth = len(max(nx.all_simple_paths(v, source = root, target = i), key=lambda x: len(x)))-1\n",
    "                data.update({i:depth})\n",
    "\n",
    "        class_hierarchy_df = pd.DataFrame.from_dict(data = data, orient='index', columns = [\"class_hierarchy\"])\n",
    "        class_hierarchy_df.index.rename('node', inplace=True)\n",
    "        class_hierarchy_df = class_hierarchy_df.reset_index()\n",
    "        # filter\n",
    "        class_hierarchy_df = class_hierarchy_df[class_hierarchy_df['node'].str.startswith(prefix_haystack)]\n",
    "        # sort\n",
    "        class_hierarchy_df = class_hierarchy_df.sort_values(\"class_hierarchy\", ascending = False)\n",
    "        # reset index\n",
    "        class_hierarchy_df = class_hierarchy_df.reset_index(drop=True)\n",
    "        # merge\n",
    "        dan_summary_haystack_df = class_hierarchy_df\n",
    "    \n",
    "    if k == \"C_B307_RECore.ttl\":        \n",
    "\n",
    "        root = URIRef('http://design-pattern-instance-only.qzc438.com/RealEstateCore/C_B307_RECore#AHU_F1')\n",
    "\n",
    "        data = {}\n",
    "\n",
    "        for i,j in v.nodes(data=True):\n",
    "\n",
    "            paths = nx.all_simple_paths(v, source = root, target = i)\n",
    "            \n",
    "            if(len(list(paths)) == 0):\n",
    "                depth = 0\n",
    "                # data.update({i:depth})\n",
    "            else:\n",
    "                depth = len(max(nx.all_simple_paths(v, source = root, target = i), key=lambda x: len(x)))-1\n",
    "                data.update({i:depth})\n",
    "\n",
    "        class_hierarchy_df = pd.DataFrame.from_dict(data = data, orient='index', columns = [\"class_hierarchy\"])\n",
    "        class_hierarchy_df.index.rename('node', inplace=True)\n",
    "        class_hierarchy_df = class_hierarchy_df.reset_index()\n",
    "        # filter\n",
    "        class_hierarchy_df = class_hierarchy_df[class_hierarchy_df['node'].str.startswith(prefix_recore)]\n",
    "        # sort\n",
    "        class_hierarchy_df = class_hierarchy_df.sort_values(\"class_hierarchy\", ascending = False)\n",
    "        # reset index\n",
    "        class_hierarchy_df = class_hierarchy_df.reset_index(drop=True)\n",
    "        # merge\n",
    "        dan_summary_recore_df = class_hierarchy_df\n",
    "        \n",
    "    if k == \"C_B307_DigitalBuilding.ttl\":        \n",
    "\n",
    "        root = URIRef('http://design-pattern-instance-only.qzc438.com/GoogleDigitalBuilding/C_B307_DigitalBuilding#AHU_F1')\n",
    "\n",
    "        data = {}\n",
    "\n",
    "        for i,j in v.nodes(data=True):\n",
    "\n",
    "            paths = nx.all_simple_paths(v, source = root, target = i)\n",
    "            \n",
    "            if(len(list(paths)) == 0):\n",
    "                depth = 0\n",
    "                # data.update({i:depth})\n",
    "            else:\n",
    "                depth = len(max(nx.all_simple_paths(v, source = root, target = i), key=lambda x: len(x)))-1\n",
    "                data.update({i:depth})\n",
    "\n",
    "        class_hierarchy_df = pd.DataFrame.from_dict(data = data, orient='index', columns = [\"class_hierarchy\"])\n",
    "        class_hierarchy_df.index.rename('node', inplace=True)\n",
    "        class_hierarchy_df = class_hierarchy_df.reset_index()\n",
    "        # filter\n",
    "        class_hierarchy_df = class_hierarchy_df[class_hierarchy_df['node'].str.startswith(prefix_digitalbuilding)]\n",
    "        # sort\n",
    "        class_hierarchy_df = class_hierarchy_df.sort_values(\"class_hierarchy\", ascending = False)\n",
    "        # reset index\n",
    "        class_hierarchy_df = class_hierarchy_df.reset_index(drop=True)\n",
    "        # merge\n",
    "        dan_summary_digitalbuilding_df = class_hierarchy_df\n",
    "    \n",
    "    # print\n",
    "    print (\"file:\", k)\n",
    "    print(\"data points\", len(class_hierarchy_df.index))\n",
    "    print (class_hierarchy_df.head(10))\n",
    "    print (\"====================================================================================================\")"
   ]
  },
  {
   "cell_type": "code",
   "execution_count": null,
   "id": "717dbd92",
   "metadata": {},
   "outputs": [],
   "source": [
    "dan_summary_brick_df"
   ]
  },
  {
   "cell_type": "code",
   "execution_count": null,
   "id": "bb9d634a",
   "metadata": {},
   "outputs": [],
   "source": [
    "x1 = dan_summary_brick_df.class_hierarchy\n",
    "x2 = dan_summary_haystack_df.class_hierarchy\n",
    "x3 = dan_summary_recore_df.class_hierarchy\n",
    "x4 = dan_summary_digitalbuilding_df.class_hierarchy\n",
    "plt.boxplot ([x1,x2,x3,x4])\n",
    "plt.xticks([1,2,3,4], ['Brick','Haystack','RECore','DigitalBuilding'])\n",
    "plt.title (\"Class Hierarchy (Original Model)\")\n",
    "plt.savefig('Class Hierarchy-Original.jpg', bbox_inches='tight', dpi=500)"
   ]
  },
  {
   "cell_type": "code",
   "execution_count": null,
   "id": "849fa411",
   "metadata": {},
   "outputs": [],
   "source": [
    "# testbed\n",
    "from rdflib import URIRef\n",
    "# class hierarchy\n",
    "for k, v in dic.items():\n",
    "    \n",
    "    # filter\n",
    "    if k == \"C_B307_Brick.ttl\":\n",
    "        \n",
    "        a = URIRef('http://design-pattern-instance-only.qzc438.com/Brick_1.2.1/C_B307_Brick#Building307')\n",
    "        \n",
    "        print(v.has_node(a))\n",
    "        \n",
    "        \n",
    "        nx.shortest_path_length(v,a)\n",
    "        \n",
    "        path = dict(nx.all_pairs_shortest_path(v))\n",
    "        \n",
    "        aa = {}\n",
    "        for key, value in path[URIRef('http://design-pattern-instance-only.qzc438.com/Brick_1.2.1/C_B307_Brick#Building307')].items():\n",
    "            aa.update({key:len([item for item in value if item])-1})\n",
    "        print(aa)\n",
    "            \n",
    "        numbr_of_degree_df = pd.DataFrame.from_dict(data = aa, orient='index', columns = [\"numbr_of_degree\"])\n",
    "    \n",
    "        numbr_of_degree_df.index.rename('node', inplace=True)\n",
    "        numbr_of_degree_df = numbr_of_degree_df.reset_index()\n",
    "    \n",
    "        print (numbr_of_degree_df)"
   ]
  },
  {
   "cell_type": "code",
   "execution_count": null,
   "id": "df5c2ef0",
   "metadata": {},
   "outputs": [],
   "source": [
    "# alternative way to calculate\n",
    "from rdflib import URIRef\n",
    "# class hierarchy\n",
    "for k, v in dic.items():\n",
    "    \n",
    "    # filter\n",
    "    if k == \"C_B307_Brick.ttl\":\n",
    "        \n",
    "        path = dict(nx.all_pairs_shortest_path(v))\n",
    "        \n",
    "        aa = {}\n",
    "        for key, value in path[URIRef('http://design-pattern-instance-only.qzc438.com/Brick_1.2.1/C_B307_Brick#Building307')].items():\n",
    "            aa.update({key:len([item for item in value if item])-1})\n",
    "        print(aa)\n",
    "            \n",
    "        numbr_of_degree_df = pd.DataFrame.from_dict(data = aa, orient='index', columns = [\"numbr_of_degree\"])\n",
    "    \n",
    "        numbr_of_degree_df.index.rename('node', inplace=True)\n",
    "        numbr_of_degree_df = numbr_of_degree_df.reset_index()\n",
    "    \n",
    "        print (numbr_of_degree_df)"
   ]
  },
  {
   "cell_type": "markdown",
   "id": "fee014fc",
   "metadata": {},
   "source": [
    "### Centrality Analysis"
   ]
  },
  {
   "cell_type": "markdown",
   "id": "4a9879b8",
   "metadata": {},
   "source": [
    "### 1. Heuristic (simple) centrality: Degree centrality (local importance)"
   ]
  },
  {
   "cell_type": "code",
   "execution_count": null,
   "id": "737336a2",
   "metadata": {},
   "outputs": [],
   "source": [
    "import networkx as nx\n",
    "\n",
    "centrality_summary_brick_df = pd.DataFrame()\n",
    "centrality_summary_haystack_df = pd.DataFrame()\n",
    "centrality_summary_recore_df = pd.DataFrame()\n",
    "centrality_summary_digitalbuilding_df = pd.DataFrame()"
   ]
  },
  {
   "cell_type": "code",
   "execution_count": null,
   "id": "78963137",
   "metadata": {},
   "outputs": [],
   "source": [
    "# in-degree centrality\n",
    "for k, v in dic.items():\n",
    "    in_degree_centrality_df = pd.DataFrame(data = nx.in_degree_centrality(v).items(), \n",
    "                                           columns = [\"node\", \"in_degree_centrality\"])\n",
    "#     print (in_degree_centrality_df.head(10))\n",
    "    # filter\n",
    "    if k == \"C_B307_Brick.ttl\":\n",
    "        in_degree_centrality_df = in_degree_centrality_df[in_degree_centrality_df['node'].str.startswith(prefix_brick)]\n",
    "        centrality_summary_brick_df = in_degree_centrality_df\n",
    "    if k == \"C_B307_Haystack.ttl\":\n",
    "        in_degree_centrality_df = in_degree_centrality_df[in_degree_centrality_df['node'].str.startswith(prefix_haystack)]\n",
    "        centrality_summary_haystack_df = in_degree_centrality_df\n",
    "    if k == \"C_B307_RECore.ttl\":\n",
    "        in_degree_centrality_df = in_degree_centrality_df[in_degree_centrality_df['node'].str.startswith(prefix_recore)]\n",
    "        centrality_summary_recore_df = in_degree_centrality_df\n",
    "    if k == \"C_B307_DigitalBuilding.ttl\":\n",
    "        in_degree_centrality_df = in_degree_centrality_df[in_degree_centrality_df['node'].str.startswith(prefix_digitalbuilding)]\n",
    "        centrality_summary_digitalbuilding_df = in_degree_centrality_df\n",
    "    \n",
    "    # sort\n",
    "    in_degree_centrality_df = in_degree_centrality_df.sort_values(\"in_degree_centrality\", ascending = False)\n",
    "    \n",
    "    # print\n",
    "    print (k)\n",
    "    print (in_degree_centrality_df.head(10))\n",
    "    print (\"==================================================\")"
   ]
  },
  {
   "cell_type": "code",
   "execution_count": null,
   "id": "dd57b87a",
   "metadata": {},
   "outputs": [],
   "source": [
    "# out-degree centrality\n",
    "for k, v in dic.items():\n",
    "    out_degree_centrality_df = pd.DataFrame(data = nx.out_degree_centrality(v).items(), \n",
    "                                           columns = [\"node\", \"out_degree_centrality\"])\n",
    "    # filter\n",
    "    if k == \"C_B307_Brick.ttl\":\n",
    "        out_degree_centrality_df = out_degree_centrality_df[out_degree_centrality_df['node'].str.startswith(prefix_brick)]\n",
    "        centrality_summary_brick_df = centrality_summary_brick_df.merge(out_degree_centrality_df, on=\"node\")\n",
    "    if k == \"C_B307_Haystack.ttl\":\n",
    "        out_degree_centrality_df = out_degree_centrality_df[out_degree_centrality_df['node'].str.startswith(prefix_haystack)]\n",
    "        centrality_summary_haystack_df = centrality_summary_haystack_df.merge(out_degree_centrality_df, on=\"node\")\n",
    "    if k == \"C_B307_RECore.ttl\":\n",
    "        out_degree_centrality_df = out_degree_centrality_df[out_degree_centrality_df['node'].str.startswith(prefix_recore)]\n",
    "        centrality_summary_recore_df = centrality_summary_recore_df.merge(out_degree_centrality_df, on=\"node\")\n",
    "    if k == \"C_B307_DigitalBuilding.ttl\":\n",
    "        out_degree_centrality_df = out_degree_centrality_df[out_degree_centrality_df['node'].str.startswith(prefix_digitalbuilding)]\n",
    "        centrality_summary_digitalbuilding_df = centrality_summary_digitalbuilding_df.merge(out_degree_centrality_df, on=\"node\")\n",
    "    \n",
    "    # sort\n",
    "    out_degree_centrality_df = out_degree_centrality_df.sort_values(\"out_degree_centrality\", ascending = False)\n",
    "    \n",
    "    # print\n",
    "    print (k)\n",
    "    print (out_degree_centrality_df.head(10))\n",
    "    print (\"==================================================\")"
   ]
  },
  {
   "cell_type": "markdown",
   "id": "1436132a",
   "metadata": {},
   "source": [
    "## 2. Graphical centrality"
   ]
  },
  {
   "cell_type": "markdown",
   "id": "b479c12f",
   "metadata": {},
   "source": [
    "### (1) Closeness centrality (path spread importance)"
   ]
  },
  {
   "cell_type": "code",
   "execution_count": null,
   "id": "6076414b",
   "metadata": {},
   "outputs": [],
   "source": [
    "# closeness centrality\n",
    "for k, v in dic.items():\n",
    "    closeness_centrality_df = pd.DataFrame(data = nx.closeness_centrality(v).items(), \n",
    "                                           columns = [\"node\", \"closeness_centrality\"])\n",
    "    # filter\n",
    "    if k == \"C_B307_Brick.ttl\":\n",
    "        closeness_centrality_df = closeness_centrality_df[closeness_centrality_df['node'].str.startswith(prefix_brick)]\n",
    "        centrality_summary_brick_df = centrality_summary_brick_df.merge(closeness_centrality_df, on=\"node\")\n",
    "    if k == \"C_B307_Haystack.ttl\":\n",
    "        closeness_centrality_df = closeness_centrality_df[closeness_centrality_df['node'].str.startswith(prefix_haystack)]\n",
    "        centrality_summary_haystack_df = centrality_summary_haystack_df.merge(closeness_centrality_df, on=\"node\")\n",
    "    if k == \"C_B307_RECore.ttl\":\n",
    "        closeness_centrality_df = closeness_centrality_df[closeness_centrality_df['node'].str.startswith(prefix_recore)]\n",
    "        centrality_summary_recore_df = centrality_summary_recore_df.merge(closeness_centrality_df, on=\"node\")\n",
    "    if k == \"C_B307_DigitalBuilding.ttl\":\n",
    "        closeness_centrality_df = closeness_centrality_df[closeness_centrality_df['node'].str.startswith(prefix_digitalbuilding)]\n",
    "        centrality_summary_digitalbuilding_df = centrality_summary_digitalbuilding_df.merge(closeness_centrality_df, on=\"node\")\n",
    "    \n",
    "    # sort\n",
    "    closeness_centrality_df = closeness_centrality_df.sort_values(\"closeness_centrality\", ascending = False)\n",
    "    \n",
    "    # print\n",
    "    print (k)\n",
    "    print (closeness_centrality_df.head(10))\n",
    "    print (\"==================================================\")"
   ]
  },
  {
   "cell_type": "markdown",
   "id": "380dd8ec",
   "metadata": {},
   "source": [
    "### (2) Betweenness centrality (In-between/broker/bridge/middleman importance)"
   ]
  },
  {
   "cell_type": "code",
   "execution_count": null,
   "id": "6a5aafc0",
   "metadata": {},
   "outputs": [],
   "source": [
    "# betweenness centrality\n",
    "for k, v in dic.items():\n",
    "    betweenness_centrality_df = pd.DataFrame(data = nx.betweenness_centrality(v).items(), \n",
    "                                           columns = [\"node\", \"betweenness_centrality\"])\n",
    "    # filter\n",
    "    if k == \"C_B307_Brick.ttl\":\n",
    "        betweenness_centrality_df = betweenness_centrality_df[betweenness_centrality_df['node'].str.startswith(prefix_brick)]\n",
    "        centrality_summary_brick_df = centrality_summary_brick_df.merge(betweenness_centrality_df, on=\"node\")\n",
    "    if k == \"C_B307_Haystack.ttl\":\n",
    "        betweenness_centrality_df = betweenness_centrality_df[betweenness_centrality_df['node'].str.startswith(prefix_haystack)]\n",
    "        centrality_summary_haystack_df = centrality_summary_haystack_df.merge(betweenness_centrality_df, on=\"node\")\n",
    "    if k == \"C_B307_RECore.ttl\":\n",
    "        betweenness_centrality_df = betweenness_centrality_df[betweenness_centrality_df['node'].str.startswith(prefix_recore)]\n",
    "        centrality_summary_recore_df = centrality_summary_recore_df.merge(betweenness_centrality_df, on=\"node\")\n",
    "    if k == \"C_B307_DigitalBuilding.ttl\":\n",
    "        betweenness_centrality_df = betweenness_centrality_df[betweenness_centrality_df['node'].str.startswith(prefix_digitalbuilding)]\n",
    "        centrality_summary_digitalbuilding_df = centrality_summary_digitalbuilding_df.merge(betweenness_centrality_df, on=\"node\")\n",
    "    \n",
    "    # sort\n",
    "    betweenness_centrality_df = betweenness_centrality_df.sort_values(\"betweenness_centrality\", ascending = False)\n",
    "    \n",
    "    # print\n",
    "    print (k)\n",
    "    print (betweenness_centrality_df.head(10))\n",
    "    print (\"==================================================\")"
   ]
  },
  {
   "cell_type": "markdown",
   "id": "078dfeec",
   "metadata": {},
   "source": [
    "## 3. Logical centrality"
   ]
  },
  {
   "cell_type": "markdown",
   "id": "abc4b756",
   "metadata": {},
   "source": [
    "###  (1) PageRank centrality"
   ]
  },
  {
   "cell_type": "code",
   "execution_count": null,
   "id": "04c83d4e",
   "metadata": {},
   "outputs": [],
   "source": [
    "# pagerank centrality\n",
    "for k, v in dic.items():\n",
    "    pagerank_centrality_df = pd.DataFrame(data = nx.pagerank(v).items(), \n",
    "                                           columns = [\"node\", \"pagerank_centrality\"])\n",
    "    # filter\n",
    "    if k == \"C_B307_Brick.ttl\":\n",
    "        pagerank_centrality_df = pagerank_centrality_df[pagerank_centrality_df['node'].str.startswith(prefix_brick)]\n",
    "        centrality_summary_brick_df = centrality_summary_brick_df.merge(pagerank_centrality_df, on=\"node\")\n",
    "    if k == \"C_B307_Haystack.ttl\":\n",
    "        pagerank_centrality_df = pagerank_centrality_df[pagerank_centrality_df['node'].str.startswith(prefix_haystack)]\n",
    "        centrality_summary_haystack_df = centrality_summary_haystack_df.merge(pagerank_centrality_df, on=\"node\")\n",
    "    if k == \"C_B307_RECore.ttl\":\n",
    "        pagerank_centrality_df = pagerank_centrality_df[pagerank_centrality_df['node'].str.startswith(prefix_recore)]\n",
    "        centrality_summary_recore_df = centrality_summary_recore_df.merge(pagerank_centrality_df, on=\"node\")\n",
    "    if k == \"C_B307_DigitalBuilding.ttl\":\n",
    "        pagerank_centrality_df = pagerank_centrality_df[pagerank_centrality_df['node'].str.startswith(prefix_digitalbuilding)]\n",
    "        centrality_summary_digitalbuilding_df = centrality_summary_digitalbuilding_df.merge(pagerank_centrality_df, on=\"node\")\n",
    "    \n",
    "    # sort\n",
    "    pagerank_centrality_df = pagerank_centrality_df.sort_values(\"pagerank_centrality\", ascending = False)\n",
    "    \n",
    "    # print\n",
    "    print (k)\n",
    "    print (pagerank_centrality_df.head(10))\n",
    "    print (\"==================================================\")\n",
    "    \n",
    "    print(centrality_summary_digitalbuilding_df)"
   ]
  },
  {
   "cell_type": "markdown",
   "id": "f6039055",
   "metadata": {},
   "source": [
    "### (2) Hit: Authority and Hub scores (inward and outward importance)"
   ]
  },
  {
   "cell_type": "code",
   "execution_count": null,
   "id": "65c15b19",
   "metadata": {},
   "outputs": [],
   "source": [
    "for k, v in dic.items():\n",
    "    # hits\n",
    "    hub_scores, auth_scores = nx.hits(v)\n",
    "    \n",
    "    # hub score\n",
    "    hub_centrality_df = pd.DataFrame(data = hub_scores.items(), \n",
    "                                           columns = [\"node\", \"hub_centrality\"])\n",
    "    # filter\n",
    "    if k == \"C_B307_Brick.ttl\":\n",
    "        hub_centrality_df = hub_centrality_df[hub_centrality_df['node'].str.startswith(prefix_brick)]\n",
    "        centrality_summary_brick_df = centrality_summary_brick_df.merge(hub_centrality_df, on=\"node\")\n",
    "    if k == \"C_B307_Haystack.ttl\":\n",
    "        hub_centrality_df = hub_centrality_df[hub_centrality_df['node'].str.startswith(prefix_haystack)]\n",
    "        centrality_summary_haystack_df = centrality_summary_haystack_df.merge(hub_centrality_df, on=\"node\")\n",
    "    if k == \"C_B307_RECore.ttl\":\n",
    "        hub_centrality_df = hub_centrality_df[hub_centrality_df['node'].str.startswith(prefix_recore)]\n",
    "        centrality_summary_recore_df = centrality_summary_recore_df.merge(hub_centrality_df, on=\"node\")\n",
    "    if k == \"C_B307_DigitalBuilding.ttl\":\n",
    "        hub_centrality_df = hub_centrality_df[hub_centrality_df['node'].str.startswith(prefix_digitalbuilding)]\n",
    "        centrality_summary_digitalbuilding_df = centrality_summary_digitalbuilding_df.merge(hub_centrality_df, on=\"node\")\n",
    "    \n",
    "    # sort\n",
    "    hub_centrality_df = hub_centrality_df.sort_values(\"hub_centrality\", ascending = False)\n",
    "    \n",
    "    # print\n",
    "    print (k)\n",
    "    print (hub_centrality_df.head(10))\n",
    "    print (\"==================================================\")\n",
    "    \n",
    "    \n",
    "    # authority score\n",
    "    auth_centrality_df = pd.DataFrame(data = auth_scores.items(), \n",
    "                                           columns = [\"node\", \"auth_centrality\"])\n",
    "    # filter\n",
    "    if k == \"C_B307_Brick.ttl\":\n",
    "        auth_centrality_df = auth_centrality_df[auth_centrality_df['node'].str.startswith(prefix_brick)]\n",
    "        centrality_summary_brick_df = centrality_summary_brick_df.merge(auth_centrality_df, on=\"node\")\n",
    "    if k == \"C_B307_Haystack.ttl\":\n",
    "        auth_centrality_df = auth_centrality_df[auth_centrality_df['node'].str.startswith(prefix_haystack)]\n",
    "        centrality_summary_haystack_df = centrality_summary_haystack_df.merge(auth_centrality_df, on=\"node\")\n",
    "    if k == \"C_B307_RECore.ttl\":\n",
    "        auth_centrality_df = auth_centrality_df[auth_centrality_df['node'].str.startswith(prefix_recore)]\n",
    "        centrality_summary_recore_df = centrality_summary_recore_df.merge(auth_centrality_df, on=\"node\")\n",
    "    if k == \"C_B307_DigitalBuilding.ttl\":\n",
    "        auth_centrality_df = auth_centrality_df[auth_centrality_df['node'].str.startswith(prefix_digitalbuilding)]\n",
    "        centrality_summary_digitalbuilding_df = centrality_summary_digitalbuilding_df.merge(auth_centrality_df, on=\"node\")\n",
    "    \n",
    "    # sort\n",
    "    auth_centrality_df = auth_centrality_df.sort_values(\"auth_centrality\", ascending = False)\n",
    "    \n",
    "    # print\n",
    "    print (k)\n",
    "    print (auth_centrality_df.head(10))\n",
    "    print (\"==================================================\")\n",
    "    \n",
    "    print(centrality_summary_digitalbuilding_df)"
   ]
  },
  {
   "cell_type": "code",
   "execution_count": null,
   "id": "13c4a81f",
   "metadata": {},
   "outputs": [],
   "source": [
    "print(centrality_summary_brick_df)"
   ]
  },
  {
   "cell_type": "code",
   "execution_count": null,
   "id": "a63198ea",
   "metadata": {},
   "outputs": [],
   "source": [
    "centrality_ranks = centrality_summary_brick_df.rank(ascending=False, \n",
    "                                           numeric_only=True, \n",
    "                                           method=\"dense\").astype(int)\n",
    "centrality_ranks.insert(loc=0, column='node', value=centrality_summary_brick_df[\"node\"])\n",
    "centrality_ranks.sort_values(\"in_degree_centrality\").style.background_gradient(subset=list(centrality_ranks.columns[1:]))"
   ]
  },
  {
   "cell_type": "code",
   "execution_count": null,
   "id": "fdffe029",
   "metadata": {},
   "outputs": [],
   "source": [
    "centrality_ranks = centrality_summary_haystack_df.rank(ascending=False, \n",
    "                                           numeric_only=True, \n",
    "                                           method=\"dense\").astype(int)\n",
    "centrality_ranks.insert(loc=0, column='node', value=centrality_summary_brick_df[\"node\"])\n",
    "centrality_ranks.sort_values(\"in_degree_centrality\").style.background_gradient(subset=list(centrality_ranks.columns[1:]))"
   ]
  },
  {
   "cell_type": "code",
   "execution_count": null,
   "id": "0a6f60d2",
   "metadata": {},
   "outputs": [],
   "source": [
    "from openpyxl import Workbook\n",
    "\n",
    "with pd.ExcelWriter('pandas_to_excel.xlsx') as writer:\n",
    "    centrality_ranks.to_excel(writer, sheet_name='sheet1')"
   ]
  },
  {
   "cell_type": "code",
   "execution_count": null,
   "id": "e7baaa46",
   "metadata": {},
   "outputs": [],
   "source": [
    "# compute the average ranking using the above ranks\n",
    "average_ranks = pd.DataFrame(round(centrality_ranks.mean(axis=1)).astype(int), columns=[\"average_rank\"])\n",
    "average_ranks.insert(loc=0, column='node', value=centrality_summary_brick_df[\"node\"])\n",
    "average_ranks.sort_values(\"average_rank\").reset_index(drop=True)\\\n",
    "    .style.background_gradient(subset=[\"average_rank\"])"
   ]
  },
  {
   "cell_type": "code",
   "execution_count": null,
   "id": "f23a4da7",
   "metadata": {},
   "outputs": [],
   "source": [
    "df = pd.DataFrame(columns = ['node','in_degree_centrality','out_degree_centrality','closeness_centrality','betweenness_centrality','pagerank_centrality','hub_centrality','hub_centrality'])\n",
    "\n",
    "centrality_summary_brick_sensor = centrality_summary_brick_df.loc[centrality_summary_brick_df.node.str.strip() \n",
    "                                == \"http://design-pattern-instance-only.qzc438.com/Brick_1.2.1/C_B307_Brick#Chiller1\"]\n",
    "centrality_summary_brick_sensor.style.background_gradient(cmap='Blues')\n",
    "centrality_summary_haystack_sensor = centrality_summary_haystack_df.loc[centrality_summary_haystack_df.node.str.strip() \n",
    "                                == \"http://design-pattern-instance-only.qzc438.com/ProjectHaystack/C_B307_Haystack#Chiller1\"]\n",
    "centrality_summary_recore_sensor = centrality_summary_recore_df.loc[centrality_summary_recore_df.node.str.strip() \n",
    "                                == \"http://design-pattern-instance-only.qzc438.com/RealEstateCore/C_B307_RECore#Chiller1\"]\n",
    "centrality_summary_digitalbuilding_sensor = centrality_summary_digitalbuilding_df.loc[centrality_summary_digitalbuilding_df.node.str.strip() \n",
    "                                == \"http://design-pattern-instance-only.qzc438.com/GoogleDigitalBuilding/C_B307_DigitalBuilding#Chiller1\"]\n",
    "\n",
    "df = pd.concat([centrality_summary_brick_sensor,centrality_summary_haystack_sensor,centrality_summary_recore_sensor,centrality_summary_digitalbuilding_sensor])\n",
    "# df.style.background_gradient(subset=list(df.columns[1:]))\n",
    "df"
   ]
  },
  {
   "cell_type": "code",
   "execution_count": null,
   "id": "94538dac",
   "metadata": {},
   "outputs": [],
   "source": [
    "df = pd.DataFrame(columns = ['node','in_degree_centrality','out_degree_centrality','closeness_centrality','betweenness_centrality','pagerank_centrality','hub_centrality','hub_centrality'])\n",
    "\n",
    "centrality_summary_brick_sensor = centrality_summary_brick_df.loc[centrality_summary_brick_df.node.str.strip() \n",
    "                                == \"http://design-pattern-instance-only.qzc438.com/Brick_1.2.1/C_B307_Brick#G6\"]\n",
    "centrality_summary_brick_sensor.style.background_gradient(cmap='Blues')\n",
    "centrality_summary_haystack_sensor = centrality_summary_haystack_df.loc[centrality_summary_haystack_df.node.str.strip() \n",
    "                                == \"http://design-pattern-instance-only.qzc438.com/ProjectHaystack/C_B307_Haystack#G6\"]\n",
    "centrality_summary_recore_sensor = centrality_summary_recore_df.loc[centrality_summary_recore_df.node.str.strip() \n",
    "                                == \"http://design-pattern-instance-only.qzc438.com/RealEstateCore/C_B307_RECore#G6\"]\n",
    "centrality_summary_digitalbuilding_sensor = centrality_summary_digitalbuilding_df.loc[centrality_summary_digitalbuilding_df.node.str.strip() \n",
    "                                == \"http://design-pattern-instance-only.qzc438.com/GoogleDigitalBuilding/C_B307_DigitalBuilding#G6\"]\n",
    "\n",
    "df = pd.concat([centrality_summary_brick_sensor,centrality_summary_haystack_sensor,centrality_summary_recore_sensor,centrality_summary_digitalbuilding_sensor])\n",
    "# df.style.background_gradient(subset=list(df.columns[1:]))\n",
    "df"
   ]
  },
  {
   "cell_type": "code",
   "execution_count": null,
   "id": "70043e31",
   "metadata": {},
   "outputs": [],
   "source": [
    "print(centrality_summary_recore_df)"
   ]
  },
  {
   "cell_type": "code",
   "execution_count": null,
   "id": "95524136",
   "metadata": {},
   "outputs": [],
   "source": [
    "centrality_summary_recore_df.loc[centrality_summary_recore_df.node.str.strip() \n",
    "                                == \"http://design-pattern-instance-only.qzc438.com/RealEstateCore/C_B307_RECore#Level1_1.111\"]"
   ]
  }
 ],
 "metadata": {
  "kernelspec": {
   "display_name": "Python 3 (ipykernel)",
   "language": "python",
   "name": "python3"
  },
  "language_info": {
   "codemirror_mode": {
    "name": "ipython",
    "version": 3
   },
   "file_extension": ".py",
   "mimetype": "text/x-python",
   "name": "python",
   "nbconvert_exporter": "python",
   "pygments_lexer": "ipython3",
   "version": "3.7.9"
  }
 },
 "nbformat": 4,
 "nbformat_minor": 5
}