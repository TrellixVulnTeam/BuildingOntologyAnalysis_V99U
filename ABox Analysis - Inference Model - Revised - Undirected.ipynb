{
 "cells": [
  {
   "cell_type": "code",
   "execution_count": null,
   "id": "f68c538a",
   "metadata": {},
   "outputs": [],
   "source": [
    "from os import walk\n",
    "\n",
    "dirpath = \"Inference Model\";\n",
    "filenames = next(walk(dirpath), (None, None, []))[2]  # [] if no file\n",
    "print(filenames)"
   ]
  },
  {
   "cell_type": "code",
   "execution_count": null,
   "id": "11f2cf59",
   "metadata": {
    "pycharm": {
     "is_executing": true
    }
   },
   "outputs": [
    {
     "name": "stdout",
     "output_type": "stream",
     "text": [
      "C_B307_Brick_Inference.ttl\n",
      "rdflib Graph loaded successfully with 23009 triples\n",
      "networkx Graph loaded successfully with length 9465\n",
      "networkx Graph to undirected\n",
      "C_B307_DigitalBuilding_Inference.ttl\n",
      "rdflib Graph loaded successfully with 9700 triples\n",
      "networkx Graph loaded successfully with length 8284\n",
      "networkx Graph to undirected\n",
      "C_B307_Haystack_Inference.ttl\n",
      "rdflib Graph loaded successfully with 2857 triples\n",
      "networkx Graph loaded successfully with length 1118\n"
     ]
    }
   ],
   "source": [
    "from rdflib import Graph as RDFGraph\n",
    "from rdflib.extras.external_graph_libs import rdflib_to_networkx_digraph\n",
    "\n",
    "# loadn RDF Graph\n",
    "dic = {}\n",
    "for filename in filenames:\n",
    "    print(filename)\n",
    "    path = dirpath + \"/\" + filename\n",
    "    g = RDFGraph()\n",
    "    g.parse(path)\n",
    "    print(\"rdflib Graph loaded successfully with {} triples\".format(len(g)))\n",
    "    G = rdflib_to_networkx_digraph(g)\n",
    "    print(\"networkx Graph loaded successfully with length {}\".format(len(G)))\n",
    "    G = G.to_undirected()\n",
    "    print(\"networkx Graph to undirected\")\n",
    "    dic.update({str(filename):G})\n",
    "# print (dic)"
   ]
  },
  {
   "cell_type": "code",
   "execution_count": null,
   "id": "6809608f",
   "metadata": {
    "pycharm": {
     "is_executing": true
    }
   },
   "outputs": [],
   "source": [
    "# show complete node\n",
    "import pandas as pd\n",
    "pd.set_option('display.max_colwidth', None)"
   ]
  },
  {
   "cell_type": "code",
   "execution_count": null,
   "id": "6b13a8da",
   "metadata": {
    "pycharm": {
     "is_executing": true
    }
   },
   "outputs": [],
   "source": [
    "number_of_nodes = {}\n",
    "for k, v in dic.items():\n",
    "    v = v.number_of_nodes()\n",
    "    number_of_nodes.update({k:v})\n",
    "\n",
    "number_of_nodes_df = pd.DataFrame(data = number_of_nodes,index=[0])\n",
    "number_of_nodes_df.head(10)"
   ]
  },
  {
   "cell_type": "code",
   "execution_count": null,
   "id": "77530ca5",
   "metadata": {
    "pycharm": {
     "is_executing": true
    }
   },
   "outputs": [],
   "source": [
    "number_of_edges = {}\n",
    "for k, v in dic.items():\n",
    "    v = v.number_of_edges()\n",
    "    number_of_edges.update ({k:v})\n",
    "\n",
    "number_of_edges_df = pd.DataFrame(data = number_of_edges,index=[0])\n",
    "number_of_edges_df.head(10)"
   ]
  },
  {
   "cell_type": "code",
   "execution_count": null,
   "id": "a60289f9",
   "metadata": {
    "pycharm": {
     "is_executing": true
    }
   },
   "outputs": [],
   "source": [
    "prefix_brick = \"http://design-pattern-instance-only.qzc438.com/Brick_1.2.1/C_B307_Brick#\"\n",
    "prefix_haystack = \"http://design-pattern-instance-only.qzc438.com/ProjectHaystack/C_B307_Haystack#\"\n",
    "prefix_recore = \"http://design-pattern-instance-only.qzc438.com/RealEstateCore/C_B307_RECore#\"\n",
    "prefix_digitalbuilding = \"http://design-pattern-instance-only.qzc438.com/GoogleDigitalBuilding/C_B307_DigitalBuilding#\"\n",
    "prefix = [prefix_brick, prefix_haystack, prefix_recore, prefix_digitalbuilding]"
   ]
  },
  {
   "cell_type": "markdown",
   "id": "95d8ecc2",
   "metadata": {},
   "source": [
    "### Dan's Paper (degree and class hierarchy/depth)"
   ]
  },
  {
   "cell_type": "code",
   "execution_count": null,
   "id": "9763993c",
   "metadata": {
    "pycharm": {
     "is_executing": true
    }
   },
   "outputs": [],
   "source": [
    "import networkx as nx\n",
    "\n",
    "dan_summary_brick_df = pd.DataFrame()\n",
    "dan_summary_haystack_df = pd.DataFrame()\n",
    "dan_summary_recore_df = pd.DataFrame()\n",
    "dan_summary_digitalbuilding_df = pd.DataFrame()"
   ]
  },
  {
   "cell_type": "code",
   "execution_count": null,
   "id": "3d2199de",
   "metadata": {
    "pycharm": {
     "is_executing": true
    }
   },
   "outputs": [],
   "source": [
    "# number of degree\n",
    "for k, v in dic.items():\n",
    "\n",
    "    number_of_degree_df = pd.DataFrame(data = v.degree(), \n",
    "                                           columns = [\"node\", \"number_of_degree\"])\n",
    "    # filter\n",
    "    if k == \"C_B307_Brick_Inference.ttl\":\n",
    "        number_of_degree_df = number_of_degree_df[number_of_degree_df['node'].str.startswith(prefix_brick)]\n",
    "        dan_summary_brick_df = number_of_degree_df\n",
    "    if k == \"C_B307_Haystack_Inference.ttl\":\n",
    "        number_of_degree_df = number_of_degree_df[number_of_degree_df['node'].str.startswith(prefix_haystack)]\n",
    "        dan_summary_haystack_df = number_of_degree_df\n",
    "    if k == \"C_B307_RECore_Inference.ttl\":\n",
    "        number_of_degree_df = number_of_degree_df[number_of_degree_df['node'].str.startswith(prefix_recore)]\n",
    "        dan_summary_recore_df = number_of_degree_df\n",
    "    if k == \"C_B307_DigitalBuilding_Inference.ttl\":\n",
    "        number_of_degree_df = number_of_degree_df[number_of_degree_df['node'].str.startswith(prefix_digitalbuilding)]\n",
    "        dan_summary_digitalbuilding_df = number_of_degree_df\n",
    "#     if k == \"C_B307_test.ttl\":\n",
    "#         numbr_of_degree_df = numbr_of_degree_df[numbr_of_degree_df['node'].str.startswith(prefix_test)]\n",
    "    \n",
    "    # sort\n",
    "    number_of_degree_df = number_of_degree_df.sort_values(\"number_of_degree\", ascending = False)\n",
    "    # reset index\n",
    "    number_of_degree_df = number_of_degree_df.reset_index(drop=True)\n",
    "    \n",
    "    # print\n",
    "    print (\"file:\", k)\n",
    "    print(\"data points\", len(number_of_degree_df.index))\n",
    "    print (number_of_degree_df.head(10))\n",
    "    print (\"====================================================================================================\")"
   ]
  },
  {
   "cell_type": "code",
   "execution_count": null,
   "id": "e41e7541",
   "metadata": {
    "pycharm": {
     "is_executing": true
    }
   },
   "outputs": [],
   "source": [
    "import matplotlib.pyplot as plt\n",
    "%matplotlib inline"
   ]
  },
  {
   "cell_type": "code",
   "execution_count": null,
   "id": "2f7fdc71",
   "metadata": {
    "pycharm": {
     "is_executing": true
    }
   },
   "outputs": [],
   "source": [
    "x1 = dan_summary_brick_df.number_of_degree\n",
    "x2 = dan_summary_haystack_df.number_of_degree\n",
    "x3 = dan_summary_recore_df.number_of_degree\n",
    "x4 = dan_summary_digitalbuilding_df.number_of_degree\n",
    "plt.boxplot ([x1,x2,x3,x4])\n",
    "plt.xticks([1,2,3,4], ['Brick','Haystack','RECore','DigitalBuilding'])\n",
    "plt.title (\"Number of Degrees (Inference Model)\")\n",
    "plt.savefig('Number of Degrees-Inference.jpg', bbox_inches='tight', dpi=500)"
   ]
  },
  {
   "cell_type": "code",
   "execution_count": 11,
   "id": "ce6f40f4",
   "metadata": {},
   "outputs": [
    {
     "ename": "KeyboardInterrupt",
     "evalue": "",
     "output_type": "error",
     "traceback": [
      "\u001B[1;31m---------------------------------------------------------------------------\u001B[0m",
      "\u001B[1;31mKeyboardInterrupt\u001B[0m                         Traceback (most recent call last)",
      "\u001B[1;32m~\\AppData\\Local\\Temp\\ipykernel_38160\\2701701709.py\u001B[0m in \u001B[0;36m<module>\u001B[1;34m\u001B[0m\n\u001B[0;32m      4\u001B[0m \u001B[1;32mfor\u001B[0m \u001B[0mk\u001B[0m\u001B[1;33m,\u001B[0m \u001B[0mv\u001B[0m \u001B[1;32min\u001B[0m \u001B[0mdic\u001B[0m\u001B[1;33m.\u001B[0m\u001B[0mitems\u001B[0m\u001B[1;33m(\u001B[0m\u001B[1;33m)\u001B[0m\u001B[1;33m:\u001B[0m\u001B[1;33m\u001B[0m\u001B[1;33m\u001B[0m\u001B[0m\n\u001B[0;32m      5\u001B[0m \u001B[1;33m\u001B[0m\u001B[0m\n\u001B[1;32m----> 6\u001B[1;33m     \u001B[0mpath\u001B[0m \u001B[1;33m=\u001B[0m \u001B[0mdict\u001B[0m\u001B[1;33m(\u001B[0m\u001B[0mnx\u001B[0m\u001B[1;33m.\u001B[0m\u001B[0mshortest_path_length\u001B[0m \u001B[1;33m(\u001B[0m\u001B[0mv\u001B[0m\u001B[1;33m)\u001B[0m\u001B[1;33m)\u001B[0m\u001B[1;33m\u001B[0m\u001B[1;33m\u001B[0m\u001B[0m\n\u001B[0m\u001B[0;32m      7\u001B[0m \u001B[1;33m\u001B[0m\u001B[0m\n\u001B[0;32m      8\u001B[0m     \u001B[1;31m# filter\u001B[0m\u001B[1;33m\u001B[0m\u001B[1;33m\u001B[0m\u001B[1;33m\u001B[0m\u001B[0m\n",
      "\u001B[1;32mE:\\JetBrains\\PycharmProjects\\BuildingOntologyAnalysis\\venv\\lib\\site-packages\\networkx\\algorithms\\shortest_paths\\unweighted.py\u001B[0m in \u001B[0;36mall_pairs_shortest_path_length\u001B[1;34m(G, cutoff)\u001B[0m\n\u001B[0;32m    182\u001B[0m     \u001B[1;31m# TODO This can be trivially parallelized.\u001B[0m\u001B[1;33m\u001B[0m\u001B[1;33m\u001B[0m\u001B[1;33m\u001B[0m\u001B[0m\n\u001B[0;32m    183\u001B[0m     \u001B[1;32mfor\u001B[0m \u001B[0mn\u001B[0m \u001B[1;32min\u001B[0m \u001B[0mG\u001B[0m\u001B[1;33m:\u001B[0m\u001B[1;33m\u001B[0m\u001B[1;33m\u001B[0m\u001B[0m\n\u001B[1;32m--> 184\u001B[1;33m         \u001B[1;32myield\u001B[0m \u001B[1;33m(\u001B[0m\u001B[0mn\u001B[0m\u001B[1;33m,\u001B[0m \u001B[0mlength\u001B[0m\u001B[1;33m(\u001B[0m\u001B[0mG\u001B[0m\u001B[1;33m,\u001B[0m \u001B[0mn\u001B[0m\u001B[1;33m,\u001B[0m \u001B[0mcutoff\u001B[0m\u001B[1;33m=\u001B[0m\u001B[0mcutoff\u001B[0m\u001B[1;33m)\u001B[0m\u001B[1;33m)\u001B[0m\u001B[1;33m\u001B[0m\u001B[1;33m\u001B[0m\u001B[0m\n\u001B[0m\u001B[0;32m    185\u001B[0m \u001B[1;33m\u001B[0m\u001B[0m\n\u001B[0;32m    186\u001B[0m \u001B[1;33m\u001B[0m\u001B[0m\n",
      "\u001B[1;32mE:\\JetBrains\\PycharmProjects\\BuildingOntologyAnalysis\\venv\\lib\\site-packages\\networkx\\algorithms\\shortest_paths\\unweighted.py\u001B[0m in \u001B[0;36msingle_source_shortest_path_length\u001B[1;34m(G, source, cutoff)\u001B[0m\n\u001B[0;32m     57\u001B[0m         \u001B[0mcutoff\u001B[0m \u001B[1;33m=\u001B[0m \u001B[0mfloat\u001B[0m\u001B[1;33m(\u001B[0m\u001B[1;34m\"inf\"\u001B[0m\u001B[1;33m)\u001B[0m\u001B[1;33m\u001B[0m\u001B[1;33m\u001B[0m\u001B[0m\n\u001B[0;32m     58\u001B[0m     \u001B[0mnextlevel\u001B[0m \u001B[1;33m=\u001B[0m \u001B[1;33m{\u001B[0m\u001B[0msource\u001B[0m\u001B[1;33m:\u001B[0m \u001B[1;36m1\u001B[0m\u001B[1;33m}\u001B[0m\u001B[1;33m\u001B[0m\u001B[1;33m\u001B[0m\u001B[0m\n\u001B[1;32m---> 59\u001B[1;33m     \u001B[1;32mreturn\u001B[0m \u001B[0mdict\u001B[0m\u001B[1;33m(\u001B[0m\u001B[0m_single_shortest_path_length\u001B[0m\u001B[1;33m(\u001B[0m\u001B[0mG\u001B[0m\u001B[1;33m.\u001B[0m\u001B[0madj\u001B[0m\u001B[1;33m,\u001B[0m \u001B[0mnextlevel\u001B[0m\u001B[1;33m,\u001B[0m \u001B[0mcutoff\u001B[0m\u001B[1;33m)\u001B[0m\u001B[1;33m)\u001B[0m\u001B[1;33m\u001B[0m\u001B[1;33m\u001B[0m\u001B[0m\n\u001B[0m\u001B[0;32m     60\u001B[0m \u001B[1;33m\u001B[0m\u001B[0m\n\u001B[0;32m     61\u001B[0m \u001B[1;33m\u001B[0m\u001B[0m\n",
      "\u001B[1;32mE:\\JetBrains\\PycharmProjects\\BuildingOntologyAnalysis\\venv\\lib\\site-packages\\networkx\\algorithms\\shortest_paths\\unweighted.py\u001B[0m in \u001B[0;36m_single_shortest_path_length\u001B[1;34m(adj, firstlevel, cutoff)\u001B[0m\n\u001B[0;32m     89\u001B[0m             \u001B[1;32mreturn\u001B[0m\u001B[1;33m\u001B[0m\u001B[1;33m\u001B[0m\u001B[0m\n\u001B[0;32m     90\u001B[0m         \u001B[1;32mfor\u001B[0m \u001B[0mv\u001B[0m \u001B[1;32min\u001B[0m \u001B[0mfound\u001B[0m\u001B[1;33m:\u001B[0m\u001B[1;33m\u001B[0m\u001B[1;33m\u001B[0m\u001B[0m\n\u001B[1;32m---> 91\u001B[1;33m             \u001B[0mnextlevel\u001B[0m\u001B[1;33m.\u001B[0m\u001B[0mupdate\u001B[0m\u001B[1;33m(\u001B[0m\u001B[0madj\u001B[0m\u001B[1;33m[\u001B[0m\u001B[0mv\u001B[0m\u001B[1;33m]\u001B[0m\u001B[1;33m)\u001B[0m\u001B[1;33m\u001B[0m\u001B[1;33m\u001B[0m\u001B[0m\n\u001B[0m\u001B[0;32m     92\u001B[0m         \u001B[0mlevel\u001B[0m \u001B[1;33m+=\u001B[0m \u001B[1;36m1\u001B[0m\u001B[1;33m\u001B[0m\u001B[1;33m\u001B[0m\u001B[0m\n\u001B[0;32m     93\u001B[0m     \u001B[1;32mdel\u001B[0m \u001B[0mseen\u001B[0m\u001B[1;33m\u001B[0m\u001B[1;33m\u001B[0m\u001B[0m\n",
      "\u001B[1;32mE:\\JetBrains\\PycharmProjects\\BuildingOntologyAnalysis\\venv\\lib\\site-packages\\rdflib\\term.py\u001B[0m in \u001B[0;36m__eq__\u001B[1;34m(self, other)\u001B[0m\n\u001B[0;32m    163\u001B[0m \u001B[1;33m\u001B[0m\u001B[0m\n\u001B[0;32m    164\u001B[0m         \u001B[1;32mif\u001B[0m \u001B[0mtype\u001B[0m\u001B[1;33m(\u001B[0m\u001B[0mself\u001B[0m\u001B[1;33m)\u001B[0m \u001B[1;33m==\u001B[0m \u001B[0mtype\u001B[0m\u001B[1;33m(\u001B[0m\u001B[0mother\u001B[0m\u001B[1;33m)\u001B[0m\u001B[1;33m:\u001B[0m\u001B[1;33m\u001B[0m\u001B[1;33m\u001B[0m\u001B[0m\n\u001B[1;32m--> 165\u001B[1;33m             \u001B[1;32mreturn\u001B[0m \u001B[0mstr\u001B[0m\u001B[1;33m(\u001B[0m\u001B[0mself\u001B[0m\u001B[1;33m)\u001B[0m \u001B[1;33m==\u001B[0m \u001B[0mstr\u001B[0m\u001B[1;33m(\u001B[0m\u001B[0mother\u001B[0m\u001B[1;33m)\u001B[0m\u001B[1;33m\u001B[0m\u001B[1;33m\u001B[0m\u001B[0m\n\u001B[0m\u001B[0;32m    166\u001B[0m         \u001B[1;32melse\u001B[0m\u001B[1;33m:\u001B[0m\u001B[1;33m\u001B[0m\u001B[1;33m\u001B[0m\u001B[0m\n\u001B[0;32m    167\u001B[0m             \u001B[1;32mreturn\u001B[0m \u001B[1;32mFalse\u001B[0m\u001B[1;33m\u001B[0m\u001B[1;33m\u001B[0m\u001B[0m\n",
      "\u001B[1;31mKeyboardInterrupt\u001B[0m: "
     ]
    }
   ],
   "source": [
    "from rdflib import URIRef\n",
    "\n",
    "# class hierarchy\n",
    "for k, v in dic.items():\n",
    "    \n",
    "    path = dict(nx.shortest_path_length (v))\n",
    "    \n",
    "    # filter\n",
    "    if k == \"C_B307_Brick_Inference.ttl\":        \n",
    "        \n",
    "        root = URIRef('http://design-pattern-instance-only.qzc438.com/Brick_1.2.1/C_B307_Brick#Building307')\n",
    "            \n",
    "        class_hierarchy_df = pd.DataFrame.from_dict(data = path[root], orient='index', columns = [\"class_hierarchy\"])\n",
    "        class_hierarchy_df.index.rename('node', inplace=True)\n",
    "        class_hierarchy_df = class_hierarchy_df.reset_index()\n",
    "        # filter\n",
    "        class_hierarchy_df = class_hierarchy_df[class_hierarchy_df['node'].str.startswith(prefix_brick)]\n",
    "        # sort\n",
    "        class_hierarchy_df = class_hierarchy_df.sort_values(\"class_hierarchy\", ascending = False)\n",
    "        # reset index\n",
    "        class_hierarchy_df = class_hierarchy_df.reset_index(drop=True)\n",
    "        # merge\n",
    "        dan_summary_brick_df = class_hierarchy_df\n",
    "\n",
    "    \n",
    "    if k == \"C_B307_Haystack_Inference.ttl\":   \n",
    "        \n",
    "        root = URIRef('http://design-pattern-instance-only.qzc438.com/ProjectHaystack/C_B307_Haystack#Building307')\n",
    "        \n",
    "        class_hierarchy_df = pd.DataFrame.from_dict(data = path[root], orient='index', columns = [\"class_hierarchy\"])\n",
    "        class_hierarchy_df.index.rename('node', inplace=True)\n",
    "        class_hierarchy_df = class_hierarchy_df.reset_index()\n",
    "        # filter\n",
    "        class_hierarchy_df = class_hierarchy_df[class_hierarchy_df['node'].str.startswith(prefix_haystack)]\n",
    "        # sort\n",
    "        class_hierarchy_df = class_hierarchy_df.sort_values(\"class_hierarchy\", ascending = False)\n",
    "        # reset index\n",
    "        class_hierarchy_df = class_hierarchy_df.reset_index(drop=True)\n",
    "        # merge\n",
    "        dan_summary_haystack_df = class_hierarchy_df\n",
    "        \n",
    "    \n",
    "    if k == \"C_B307_RECore_Inference.ttl\":\n",
    "        \n",
    "        path = dict(nx.shortest_path_length (v))\n",
    "        root = URIRef('http://design-pattern-instance-only.qzc438.com/RealEstateCore/C_B307_RECore#Building307')\n",
    "#         print (path[root])\n",
    "\n",
    "        class_hierarchy_df = pd.DataFrame.from_dict(data = path[root], orient='index', columns = [\"class_hierarchy\"])\n",
    "    \n",
    "        class_hierarchy_df.index.rename('node', inplace=True)\n",
    "        class_hierarchy_df = class_hierarchy_df.reset_index()\n",
    "        # filter\n",
    "        class_hierarchy_df = class_hierarchy_df[class_hierarchy_df['node'].str.startswith(prefix_recore)]\n",
    "        # sort\n",
    "        class_hierarchy_df = class_hierarchy_df.sort_values(\"class_hierarchy\", ascending = False)\n",
    "        # reset index\n",
    "        class_hierarchy_df = class_hierarchy_df.reset_index(drop=True)\n",
    "        # merge\n",
    "        dan_summary_recore_df = class_hierarchy_df\n",
    "        \n",
    "    if k == \"C_B307_DigitalBuilding_Inference.ttl\":        \n",
    "\n",
    "        root = URIRef('http://design-pattern-instance-only.qzc438.com/GoogleDigitalBuilding/C_B307_DigitalBuilding#Building307')\n",
    "\n",
    "        class_hierarchy_df = pd.DataFrame.from_dict(data = path[root], orient='index', columns = [\"class_hierarchy\"])\n",
    "        \n",
    "        class_hierarchy_df.index.rename('node', inplace=True)\n",
    "        class_hierarchy_df = class_hierarchy_df.reset_index()\n",
    "        # filter\n",
    "        class_hierarchy_df = class_hierarchy_df[class_hierarchy_df['node'].str.startswith(prefix_digitalbuilding)]\n",
    "        # sort\n",
    "        class_hierarchy_df = class_hierarchy_df.sort_values(\"class_hierarchy\", ascending = False)\n",
    "        # reset index\n",
    "        class_hierarchy_df = class_hierarchy_df.reset_index(drop=True)\n",
    "        # merge\n",
    "        dan_summary_digitalbuilding_df = class_hierarchy_df\n",
    "    \n",
    "    # print\n",
    "    print (\"file:\", k)\n",
    "    print(\"data points\", len(class_hierarchy_df.index))\n",
    "    print (class_hierarchy_df.head(10))\n",
    "    print (\"====================================================================================================\")"
   ]
  },
  {
   "cell_type": "code",
   "execution_count": null,
   "id": "51c4c6f6",
   "metadata": {},
   "outputs": [],
   "source": [
    "x1 = dan_summary_brick_df.class_hierarchy\n",
    "x2 = dan_summary_haystack_df.class_hierarchy\n",
    "x3 = dan_summary_recore_df.class_hierarchy\n",
    "x4 = dan_summary_digitalbuilding_df.class_hierarchy\n",
    "plt.boxplot ([x1,x2,x3,x4])\n",
    "plt.xticks([1,2,3,4], ['Brick','Haystack','RECore','DigitalBuilding'])"
   ]
  }
 ],
 "metadata": {
  "kernelspec": {
   "display_name": "Python 3 (ipykernel)",
   "language": "python",
   "name": "python3"
  },
  "language_info": {
   "codemirror_mode": {
    "name": "ipython",
    "version": 3
   },
   "file_extension": ".py",
   "mimetype": "text/x-python",
   "name": "python",
   "nbconvert_exporter": "python",
   "pygments_lexer": "ipython3",
   "version": "3.7.9"
  }
 },
 "nbformat": 4,
 "nbformat_minor": 5
}