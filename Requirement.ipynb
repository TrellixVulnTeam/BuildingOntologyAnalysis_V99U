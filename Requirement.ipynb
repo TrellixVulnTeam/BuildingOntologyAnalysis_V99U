{
 "cells": [
  {
   "cell_type": "code",
   "execution_count": 1,
   "id": "e5743db8",
   "metadata": {},
   "outputs": [
    {
     "name": "stdout",
     "output_type": "stream",
     "text": [
      "Requirement already satisfied: rdflib in e:\\jetbrains\\pycharmprojects\\buildingontologyanalysis\\venv\\lib\\site-packages (6.1.1)\n",
      "Requirement already satisfied: setuptools in e:\\jetbrains\\pycharmprojects\\buildingontologyanalysis\\venv\\lib\\site-packages (from rdflib) (60.9.3)\n",
      "Requirement already satisfied: pyparsing in e:\\jetbrains\\pycharmprojects\\buildingontologyanalysis\\venv\\lib\\site-packages (from rdflib) (3.0.7)\n",
      "Requirement already satisfied: importlib-metadata in e:\\jetbrains\\pycharmprojects\\buildingontologyanalysis\\venv\\lib\\site-packages (from rdflib) (4.11.2)\n",
      "Requirement already satisfied: isodate in e:\\jetbrains\\pycharmprojects\\buildingontologyanalysis\\venv\\lib\\site-packages (from rdflib) (0.6.1)\n",
      "Requirement already satisfied: zipp>=0.5 in e:\\jetbrains\\pycharmprojects\\buildingontologyanalysis\\venv\\lib\\site-packages (from importlib-metadata->rdflib) (3.7.0)\n",
      "Requirement already satisfied: typing-extensions>=3.6.4 in e:\\jetbrains\\pycharmprojects\\buildingontologyanalysis\\venv\\lib\\site-packages (from importlib-metadata->rdflib) (4.1.1)\n",
      "Requirement already satisfied: six in e:\\jetbrains\\pycharmprojects\\buildingontologyanalysis\\venv\\lib\\site-packages (from isodate->rdflib) (1.16.0)\n",
      "Requirement already satisfied: networkx in e:\\jetbrains\\pycharmprojects\\buildingontologyanalysis\\venv\\lib\\site-packages (2.6.3)\n",
      "Requirement already satisfied: pandas in e:\\jetbrains\\pycharmprojects\\buildingontologyanalysis\\venv\\lib\\site-packages (1.3.5)\n",
      "Requirement already satisfied: numpy>=1.17.3 in e:\\jetbrains\\pycharmprojects\\buildingontologyanalysis\\venv\\lib\\site-packages (from pandas) (1.21.5)\n",
      "Requirement already satisfied: python-dateutil>=2.7.3 in e:\\jetbrains\\pycharmprojects\\buildingontologyanalysis\\venv\\lib\\site-packages (from pandas) (2.8.2)\n",
      "Requirement already satisfied: pytz>=2017.3 in e:\\jetbrains\\pycharmprojects\\buildingontologyanalysis\\venv\\lib\\site-packages (from pandas) (2021.3)\n",
      "Requirement already satisfied: six>=1.5 in e:\\jetbrains\\pycharmprojects\\buildingontologyanalysis\\venv\\lib\\site-packages (from python-dateutil>=2.7.3->pandas) (1.16.0)\n",
      "Requirement already satisfied: matplotlib in e:\\jetbrains\\pycharmprojects\\buildingontologyanalysis\\venv\\lib\\site-packages (3.5.1)\n",
      "Requirement already satisfied: pillow>=6.2.0 in e:\\jetbrains\\pycharmprojects\\buildingontologyanalysis\\venv\\lib\\site-packages (from matplotlib) (9.0.1)\n",
      "Requirement already satisfied: kiwisolver>=1.0.1 in e:\\jetbrains\\pycharmprojects\\buildingontologyanalysis\\venv\\lib\\site-packages (from matplotlib) (1.3.2)\n",
      "Requirement already satisfied: python-dateutil>=2.7 in e:\\jetbrains\\pycharmprojects\\buildingontologyanalysis\\venv\\lib\\site-packages (from matplotlib) (2.8.2)\n",
      "Requirement already satisfied: fonttools>=4.22.0 in e:\\jetbrains\\pycharmprojects\\buildingontologyanalysis\\venv\\lib\\site-packages (from matplotlib) (4.29.1)\n",
      "Requirement already satisfied: cycler>=0.10 in e:\\jetbrains\\pycharmprojects\\buildingontologyanalysis\\venv\\lib\\site-packages (from matplotlib) (0.11.0)\n",
      "Requirement already satisfied: pyparsing>=2.2.1 in e:\\jetbrains\\pycharmprojects\\buildingontologyanalysis\\venv\\lib\\site-packages (from matplotlib) (3.0.7)\n",
      "Requirement already satisfied: numpy>=1.17 in e:\\jetbrains\\pycharmprojects\\buildingontologyanalysis\\venv\\lib\\site-packages (from matplotlib) (1.21.5)\n",
      "Requirement already satisfied: packaging>=20.0 in e:\\jetbrains\\pycharmprojects\\buildingontologyanalysis\\venv\\lib\\site-packages (from matplotlib) (21.3)\n",
      "Requirement already satisfied: six>=1.5 in e:\\jetbrains\\pycharmprojects\\buildingontologyanalysis\\venv\\lib\\site-packages (from python-dateutil>=2.7->matplotlib) (1.16.0)\n",
      "Requirement already satisfied: scipy in e:\\jetbrains\\pycharmprojects\\buildingontologyanalysis\\venv\\lib\\site-packages (1.7.3)\n",
      "Requirement already satisfied: numpy<1.23.0,>=1.16.5 in e:\\jetbrains\\pycharmprojects\\buildingontologyanalysis\\venv\\lib\\site-packages (from scipy) (1.21.5)\n",
      "Requirement already satisfied: openpyxl in e:\\jetbrains\\pycharmprojects\\buildingontologyanalysis\\venv\\lib\\site-packages (3.0.9)\n",
      "Requirement already satisfied: et-xmlfile in e:\\jetbrains\\pycharmprojects\\buildingontologyanalysis\\venv\\lib\\site-packages (from openpyxl) (1.1.0)\n"
     ]
    }
   ],
   "source": [
    "!pip install rdflib\n",
    "!pip install networkx\n",
    "!pip install pandas\n",
    "!pip install matplotlib\n",
    "!pip install scipy\n",
    "!pip install openpyxl"
   ]
  }
 ],
 "metadata": {
  "kernelspec": {
   "display_name": "Python 3 (ipykernel)",
   "language": "python",
   "name": "python3"
  },
  "language_info": {
   "codemirror_mode": {
    "name": "ipython",
    "version": 3
   },
   "file_extension": ".py",
   "mimetype": "text/x-python",
   "name": "python",
   "nbconvert_exporter": "python",
   "pygments_lexer": "ipython3",
   "version": "3.7.9"
  }
 },
 "nbformat": 4,
 "nbformat_minor": 5
}
